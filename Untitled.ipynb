{
 "cells": [
  {
   "cell_type": "code",
   "execution_count": 10,
   "metadata": {
    "collapsed": false
   },
   "outputs": [
    {
     "name": "stdout",
     "output_type": "stream",
     "text": [
      "Podaj ilosc wierzchołków\n",
      "11\n",
      "Podaj maskymalny stopień\n",
      "4\n"
     ]
    },
    {
     "data": {
      "image/png": "[encoded data removed]",
      "text/plain": [
       "<matplotlib.figure.Figure at 0x7f05076a6510>"
      ]
     },
     "metadata": {},
     "output_type": "display_data"
    }
   ],
   "source": [
    "import networkx as nx\n",
    "import matplotlib.pyplot as plt\n",
    "\n",
    "print 'Podaj ilosc wierzchołków'\n",
    "n = input()\n",
    "print 'Podaj maskymalny stopień'\n",
    "m = input()\n",
    "G = nx.powerlaw_cluster_graph(n, m, 0.1)\n",
    "G.number_of_nodes()\n",
    "border = m / 2\n",
    "\n",
    "def safe_remove(target, source):\n",
    "    if len(G[target]) > border:\n",
    "        G.remove_edge(target, source)\n",
    "        return True\n",
    "    \n",
    "def safe_remove_n(source, n):\n",
    "    for _ in range(n):\n",
    "        for target in G[i].keys():\n",
    "            res = safe_remove(int(target), i)\n",
    "            if res:\n",
    "                break\n",
    "\n",
    "def cycles_info():\n",
    "    cycles = []\n",
    "    for cycle in nx.cycle_basis(G, 0):\n",
    "        cycles.append(\"-\".join([str(it) for it in cycle]))\n",
    "    return cycles\n",
    "    \n",
    "\n",
    "for i in range(n):\n",
    "    edges = len(G[i])\n",
    "    if edges > m:\n",
    "        safe_remove_n(i, edges - m)\n",
    "\n",
    "\n",
    "   \n",
    "plt.subplot(122)       \n",
    "nx.draw(G, with_labels=True, font_weight='bold')\n",
    "plt.show()"
   ]
  },
  {
   "cell_type": "code",
   "execution_count": 11,
   "metadata": {
    "collapsed": false
   },
   "outputs": [
    {
     "name": "stdout",
     "output_type": "stream",
     "text": [
      "Cykle:\n",
      "['5-9-4-6-0', '1-7-9', '10-7-9-4-6', '10-3-7', '2-8-4-6', '5-8-4-6-0', '5-10-6-0']\n"
     ]
    }
   ],
   "source": [
    "print \"Cykle:\"\n",
    "print cycles_info() "
   ]
  },
  {
   "cell_type": "code",
   "execution_count": 12,
   "metadata": {
    "collapsed": false
   },
   "outputs": [
    {
     "name": "stdout",
     "output_type": "stream",
     "text": [
      "Macierz:\n"
     ]
    },
    {
     "data": {
      "text/plain": [
       "[[0, 0, 0, 0, 0, 1, 1, 0, 0, 0, 0],\n",
       " [0, 0, 0, 0, 0, 0, 0, 1, 0, 1, 0],\n",
       " [0, 0, 0, 0, 0, 0, 1, 0, 1, 0, 0],\n",
       " [0, 0, 0, 0, 0, 0, 0, 1, 0, 0, 1],\n",
       " [0, 0, 0, 0, 0, 0, 1, 0, 1, 1, 0],\n",
       " [1, 0, 0, 0, 0, 0, 0, 0, 1, 1, 1],\n",
       " [1, 0, 1, 0, 1, 0, 0, 0, 0, 0, 1],\n",
       " [0, 1, 0, 1, 0, 0, 0, 0, 0, 1, 1],\n",
       " [0, 0, 1, 0, 1, 1, 0, 0, 0, 0, 0],\n",
       " [0, 1, 0, 0, 1, 1, 0, 1, 0, 0, 0],\n",
       " [0, 0, 0, 1, 0, 1, 1, 1, 0, 0, 0]]"
      ]
     },
     "execution_count": 12,
     "metadata": {},
     "output_type": "execute_result"
    }
   ],
   "source": [
    "print \"Macierz:\"\n",
    "[it.tolist()[0] for it in nx.to_numpy_matrix(G, dtype=int)]"
   ]
  },
  {
   "cell_type": "code",
   "execution_count": null,
   "metadata": {
    "collapsed": true
   },
   "outputs": [],
   "source": []
  }
 ],
 "metadata": {
  "kernelspec": {
   "display_name": "Python 2",
   "language": "python",
   "name": "python2"
  },
  "language_info": {
   "codemirror_mode": {
    "name": "ipython",
    "version": 2
   },
   "file_extension": ".py",
   "mimetype": "text/x-python",
   "name": "python",
   "nbconvert_exporter": "python",
   "pygments_lexer": "ipython2",
   "version": "2.7.12"
  }
 },
 "nbformat": 4,
 "nbformat_minor": 2
}
